{
 "cells": [
  {
   "cell_type": "code",
   "execution_count": 30,
   "metadata": {},
   "outputs": [],
   "source": [
    "import numpy as np\n",
    "import pandas as pd\n",
    "import matplotlib.pyplot as plt\n",
    "import seaborn as sns\n",
    "\n",
    "from sklearn.feature_extraction.text import TfidfVectorizer\n",
    "from sklearn.linear_model import LogisticRegression\n",
    "from sklearn.metrics import classification_report, accuracy_score\n",
    "from sklearn.model_selection import train_test_split\n",
    "from sklearn.naive_bayes import MultinomialNB\n",
    "from sklearn.pipeline import Pipeline\n",
    "from sklearn.ensemble import RandomForestClassifier\n",
    "from sklearn.svm import SVC\n",
    "from sklearn.decomposition import TruncatedSVD"
   ]
  },
  {
   "cell_type": "code",
   "execution_count": 7,
   "metadata": {},
   "outputs": [
    {
     "data": {
      "text/html": [
       "<div>\n",
       "<style scoped>\n",
       "    .dataframe tbody tr th:only-of-type {\n",
       "        vertical-align: middle;\n",
       "    }\n",
       "\n",
       "    .dataframe tbody tr th {\n",
       "        vertical-align: top;\n",
       "    }\n",
       "\n",
       "    .dataframe thead th {\n",
       "        text-align: right;\n",
       "    }\n",
       "</style>\n",
       "<table border=\"1\" class=\"dataframe\">\n",
       "  <thead>\n",
       "    <tr style=\"text-align: right;\">\n",
       "      <th></th>\n",
       "      <th>tweet_with_emoji_meaning</th>\n",
       "      <th>label</th>\n",
       "    </tr>\n",
       "  </thead>\n",
       "  <tbody>\n",
       "    <tr>\n",
       "      <th>0</th>\n",
       "      <td>پیرمرد وصیت احدی تاکید احدی درد دل نکنید بعدش ...</td>\n",
       "      <td>0</td>\n",
       "    </tr>\n",
       "    <tr>\n",
       "      <th>1</th>\n",
       "      <td>مجوز بده ملت  ماشین استاندارد بتونن بیارن سوار...</td>\n",
       "      <td>0</td>\n",
       "    </tr>\n",
       "    <tr>\n",
       "      <th>2</th>\n",
       "      <td>دیت دختره دید زشتم می‌خواست پاشه بره آینهی دست...</td>\n",
       "      <td>1</td>\n",
       "    </tr>\n",
       "    <tr>\n",
       "      <th>3</th>\n",
       "      <td>اکیپ دخترونه هست پایه قراراست کلاس نمیذاره زود...</td>\n",
       "      <td>0</td>\n",
       "    </tr>\n",
       "    <tr>\n",
       "      <th>4</th>\n",
       "      <td>۵۰۰ نفری مراسم سالگرد پدر همسرم شرکت فوتی‌ی ۴۰...</td>\n",
       "      <td>0</td>\n",
       "    </tr>\n",
       "  </tbody>\n",
       "</table>\n",
       "</div>"
      ],
      "text/plain": [
       "                            tweet_with_emoji_meaning  label\n",
       "0  پیرمرد وصیت احدی تاکید احدی درد دل نکنید بعدش ...      0\n",
       "1  مجوز بده ملت  ماشین استاندارد بتونن بیارن سوار...      0\n",
       "2  دیت دختره دید زشتم می‌خواست پاشه بره آینهی دست...      1\n",
       "3  اکیپ دخترونه هست پایه قراراست کلاس نمیذاره زود...      0\n",
       "4  ۵۰۰ نفری مراسم سالگرد پدر همسرم شرکت فوتی‌ی ۴۰...      0"
      ]
     },
     "execution_count": 7,
     "metadata": {},
     "output_type": "execute_result"
    }
   ],
   "source": [
    "df = pd.read_csv('../data/Preprocessed_data.csv')\n",
    "\n",
    "df.head()"
   ]
  },
  {
   "cell_type": "code",
   "execution_count": 8,
   "metadata": {},
   "outputs": [],
   "source": [
    "x = df['tweet_with_emoji_meaning']\n",
    "y = df['label']"
   ]
  },
  {
   "cell_type": "code",
   "execution_count": 9,
   "metadata": {},
   "outputs": [],
   "source": [
    "x_train, x_test, y_train, y_test = train_test_split(x,y, random_state=42, shuffle=True, test_size=0.2)"
   ]
  },
  {
   "cell_type": "code",
   "execution_count": 10,
   "metadata": {},
   "outputs": [
    {
     "data": {
      "text/plain": [
       "((11740,), (2936,))"
      ]
     },
     "execution_count": 10,
     "metadata": {},
     "output_type": "execute_result"
    }
   ],
   "source": [
    "x_train.shape, x_test.shape"
   ]
  },
  {
   "cell_type": "code",
   "execution_count": 11,
   "metadata": {},
   "outputs": [
    {
     "data": {
      "text/plain": [
       "((11740, 10000), (2936, 10000))"
      ]
     },
     "execution_count": 11,
     "metadata": {},
     "output_type": "execute_result"
    }
   ],
   "source": [
    "tfidf = TfidfVectorizer(max_features=10000, ngram_range=(1,2))\n",
    "x_train_tfidf = tfidf.fit_transform(x_train)\n",
    "x_test_tfidf = tfidf.transform(x_test)\n",
    "x_train_tfidf.shape, x_test_tfidf.shape\n"
   ]
  },
  {
   "cell_type": "code",
   "execution_count": 26,
   "metadata": {},
   "outputs": [
    {
     "data": {
      "text/plain": [
       "((11740, 200), (2936, 200))"
      ]
     },
     "execution_count": 26,
     "metadata": {},
     "output_type": "execute_result"
    }
   ],
   "source": [
    "svd = TruncatedSVD(n_components=200)\n",
    "x_train_svd = svd.fit_transform(x_train_tfidf)\n",
    "x_test_svd = svd.transform(x_test_tfidf)\n",
    "x_train_svd.shape, x_test_svd.shape\n"
   ]
  },
  {
   "cell_type": "code",
   "execution_count": 31,
   "metadata": {},
   "outputs": [],
   "source": [
    "models = {\n",
    "    'Logistic Regression': LogisticRegression(),\n",
    "    'MultinomialNB': MultinomialNB(),\n",
    "    'SVC': SVC(),\n",
    "    'Random Forest': RandomForestClassifier()\n",
    "}\n"
   ]
  },
  {
   "cell_type": "code",
   "execution_count": 32,
   "metadata": {},
   "outputs": [],
   "source": [
    "def cacl_metrics(model, x_train, x_test, y_train, y_test):\n",
    "    model.fit(x_train, y_train)\n",
    "    y_pred = model.predict(x_test)\n",
    "    print(classification_report(y_test, y_pred))\n",
    "    print('Accuracy: ',   accuracy_score(y_test, y_pred))\n",
    "    "
   ]
  },
  {
   "cell_type": "code",
   "execution_count": 35,
   "metadata": {},
   "outputs": [
    {
     "name": "stdout",
     "output_type": "stream",
     "text": [
      "Model: Logistic Regression\n",
      "              precision    recall  f1-score   support\n",
      "\n",
      "           0       0.76      0.80      0.78      1543\n",
      "           1       0.77      0.72      0.74      1393\n",
      "\n",
      "    accuracy                           0.76      2936\n",
      "   macro avg       0.76      0.76      0.76      2936\n",
      "weighted avg       0.76      0.76      0.76      2936\n",
      "\n",
      "Accuracy:  0.7612397820163488\n",
      "----------------------------------------------------------------------------------------------------\n",
      "Model: MultinomialNB\n",
      "              precision    recall  f1-score   support\n",
      "\n",
      "           0       0.81      0.70      0.75      1543\n",
      "           1       0.71      0.82      0.76      1393\n",
      "\n",
      "    accuracy                           0.76      2936\n",
      "   macro avg       0.76      0.76      0.76      2936\n",
      "weighted avg       0.77      0.76      0.76      2936\n",
      "\n",
      "Accuracy:  0.7588555858310627\n",
      "----------------------------------------------------------------------------------------------------\n",
      "Model: SVC\n",
      "              precision    recall  f1-score   support\n",
      "\n",
      "           0       0.76      0.79      0.78      1543\n",
      "           1       0.76      0.73      0.74      1393\n",
      "\n",
      "    accuracy                           0.76      2936\n",
      "   macro avg       0.76      0.76      0.76      2936\n",
      "weighted avg       0.76      0.76      0.76      2936\n",
      "\n",
      "Accuracy:  0.7598773841961853\n",
      "----------------------------------------------------------------------------------------------------\n",
      "Model: Random Forest\n",
      "              precision    recall  f1-score   support\n",
      "\n",
      "           0       0.77      0.75      0.76      1543\n",
      "           1       0.73      0.76      0.74      1393\n",
      "\n",
      "    accuracy                           0.75      2936\n",
      "   macro avg       0.75      0.75      0.75      2936\n",
      "weighted avg       0.75      0.75      0.75      2936\n",
      "\n",
      "Accuracy:  0.7513623978201635\n",
      "----------------------------------------------------------------------------------------------------\n"
     ]
    }
   ],
   "source": [
    "for model_name, model in models.items():\n",
    "    print(f\"Model: {model_name}\")\n",
    "    # if model_name == 'MultinomialNB':      \n",
    "    cacl_metrics(model, x_train_tfidf, x_test_tfidf, y_train, y_test)\n",
    "    # else:\n",
    "        \n",
    "        # cacl_metrics(model, x_train_svd, x_test_svd, y_train, y_test)\n",
    "    print(\"-\"*100)\n"
   ]
  },
  {
   "cell_type": "code",
   "execution_count": null,
   "metadata": {},
   "outputs": [],
   "source": []
  }
 ],
 "metadata": {
  "kernelspec": {
   "display_name": "ML",
   "language": "python",
   "name": "python3"
  },
  "language_info": {
   "codemirror_mode": {
    "name": "ipython",
    "version": 3
   },
   "file_extension": ".py",
   "mimetype": "text/x-python",
   "name": "python",
   "nbconvert_exporter": "python",
   "pygments_lexer": "ipython3",
   "version": "3.11.5"
  }
 },
 "nbformat": 4,
 "nbformat_minor": 2
}
